{
 "cells": [
  {
   "cell_type": "markdown",
   "metadata": {},
   "source": [
    "### 1. Set up graph"
   ]
  },
  {
   "cell_type": "code",
   "execution_count": 10,
   "metadata": {},
   "outputs": [],
   "source": [
    "import networkx as nx\n",
    "import matplotlib.pyplot as plt\n",
    "from pyvis.network import Network\n",
    "import pandas as pd\n",
    "import numpy as np"
   ]
  },
  {
   "cell_type": "code",
   "execution_count": 11,
   "metadata": {},
   "outputs": [],
   "source": [
    "nodes=pd.read_csv(\"data/\" + \"nodes.csv\")\n",
    "edges=pd.read_csv(\"data/\" + \"edges.csv\")"
   ]
  },
  {
   "cell_type": "code",
   "execution_count": 12,
   "metadata": {},
   "outputs": [],
   "source": [
    "G=nx.DiGraph()\n",
    "\n",
    "for idx, row in nodes.iterrows():\n",
    "    G.add_node(idx, text=row[\"text\"], ntype=row[\"ntype\"])\n",
    "    \n",
    "for idx, row in edges.iterrows():\n",
    "    G.add_edge(u_of_edge=row[\"origin\"], v_of_edge=row[\"destination\"], direction=row[\"direction\"], title=row[\"title\"])"
   ]
  },
  {
   "cell_type": "markdown",
   "metadata": {},
   "source": [
    "### 2. Preprocessing for graph"
   ]
  },
  {
   "cell_type": "markdown",
   "metadata": {},
   "source": [
    "#### 2.1 Define Labels"
   ]
  },
  {
   "cell_type": "code",
   "execution_count": 13,
   "metadata": {},
   "outputs": [
    {
     "name": "stdout",
     "output_type": "stream",
     "text": [
      "Example: \n",
      "\n",
      "Before National infrastructure project funding \n",
      "\n",
      "After National infrastructure\n",
      "project funding\n"
     ]
    }
   ],
   "source": [
    "def splitLabels(s):\n",
    "    #Splits labels to format for PyVis graph\n",
    "    def findOccurrences(s, ch):\n",
    "        return [i for i, letter in enumerate(s) if letter == ch]\n",
    "    \n",
    "    def newLinepos(labelPos, targetLength=20):\n",
    "        l=[i % 20 for i in labelPos]\n",
    "        return np.greater_equal(l[:-1], l[1:])\n",
    "       \n",
    "    pos=findOccurrences(s, \" \")\n",
    "    if bool(pos):\n",
    "        newpos=newLinepos(pos)\n",
    "        newpos=np.append([False], newpos)\n",
    "        newpos=np.array(pos)[newpos]\n",
    "        return \"\".join([\"\\n\" if idx in newpos else i for idx, i in enumerate(s)])\n",
    "    else:\n",
    "        return s\n",
    "print(f\"Example: \\n\\nBefore {G.nodes[10]['text']} \\n\\nAfter {splitLabels(G.nodes[10]['text'])}\")"
   ]
  },
  {
   "cell_type": "code",
   "execution_count": 14,
   "metadata": {},
   "outputs": [
    {
     "name": "stdout",
     "output_type": "stream",
     "text": [
      "The house prices node looks like {'text': 'House prices', 'ntype': 'M'}\n"
     ]
    }
   ],
   "source": [
    "mapping={node:splitLabels(prop[\"text\"]) for node, prop in G.nodes(data=True)}\n",
    "G = nx.relabel_nodes(G, mapping)\n",
    "\n",
    "#Verify the graph has loaded successfully\n",
    "print(\"The house prices node looks like %s\" % (G.nodes[\"House prices\"]))"
   ]
  },
  {
   "cell_type": "markdown",
   "metadata": {},
   "source": [
    "#### 2.2: Assign node and edge properties"
   ]
  },
  {
   "cell_type": "code",
   "execution_count": 15,
   "metadata": {},
   "outputs": [],
   "source": [
    "#Assign nodes colours\n",
    "mapping={node:\"rgb(255,128,0)\"   if prop[\"ntype\"]==\"F\" else \n",
    "              \"rgb(102,178,255)\" if prop[\"ntype\"]==\"M\" else \n",
    "              \"rgb(160,160,160)\" \n",
    "              for node, prop in G.nodes(data=True)}\n",
    "nx.set_node_attributes(G,mapping,'color')\n",
    "\n",
    "#Assign edges colours\n",
    "mapping={(start, end):\"rgb(255,0,0)\" if prop[\"direction\"]==\"down\" else \n",
    "                      \"rgb(0,0,255)\" if prop[\"direction\"]==\"up\" else\n",
    "                      \"rgb(160,160,160\" \n",
    "                      for start, end, prop in G.edges(data=True)}\n",
    "nx.set_edge_attributes(G,mapping,'color')\n",
    "\n",
    "#Set node sizes\n",
    "nx.set_node_attributes(G,25,'size')"
   ]
  },
  {
   "cell_type": "markdown",
   "metadata": {},
   "source": [
    "#### 2.3: Configure PyVis graph"
   ]
  },
  {
   "cell_type": "code",
   "execution_count": 16,
   "metadata": {},
   "outputs": [],
   "source": [
    "economy = Network(height='750px', width='75%', bgcolor='#222222', font_color='white', directed=True)\n",
    "economy.toggle_physics(False)\n",
    "\n",
    "#Take Networkx graph and translate it to a PyVis graph format\n",
    "economy.from_nx(G)\n",
    "\n",
    "# Generate network with specific layout settings\n",
    "economy.repulsion(      node_distance=200,\n",
    "                        central_gravity=0.33,\n",
    "                        spring_length=110,\n",
    "                        spring_strength=0.10,\n",
    "                        damping=0.95\n",
    "                  )\n",
    "economy.save_graph(\"html_files/\" + \"economynetworkgraph.html\")"
   ]
  }
 ],
 "metadata": {
  "kernelspec": {
   "display_name": "Python 3",
   "language": "python",
   "name": "python3"
  },
  "language_info": {
   "codemirror_mode": {
    "name": "ipython",
    "version": 3
   },
   "file_extension": ".py",
   "mimetype": "text/x-python",
   "name": "python",
   "nbconvert_exporter": "python",
   "pygments_lexer": "ipython3",
   "version": "3.8.5"
  }
 },
 "nbformat": 4,
 "nbformat_minor": 4
}
